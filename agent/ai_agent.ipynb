{
 "cells": [
  {
   "cell_type": "code",
   "execution_count": 1,
   "id": "de6ee22c",
   "metadata": {},
   "outputs": [],
   "source": [
    "from langchain_openai import ChatOpenAI\n",
    "from dotenv import load_dotenv\n",
    "from langchain_community.tools import DuckDuckGoSearchRun\n",
    "\n",
    "load_dotenv()\n",
    "\n",
    "\n",
    "llm = ChatOpenAI(model=\"gpt-4o-mini\")"
   ]
  },
  {
   "cell_type": "code",
   "execution_count": 4,
   "id": "9256aaca",
   "metadata": {},
   "outputs": [],
   "source": [
    "search = DuckDuckGoSearchRun()\n",
    "\n",
    "result = search.invoke(\"kohli\")"
   ]
  },
  {
   "cell_type": "code",
   "execution_count": null,
   "id": "d9073fda",
   "metadata": {},
   "outputs": [
    {
     "data": {
      "text/plain": [
       "AIMessage(content=\"Virat Kohli's journey in T20 cricket began in April 2007, during the Inter-State T20 Championship, where he made a strong impression as the top run-scorer for his team with 179 runs. He made his international T20 debut against Sri Lanka in August 2008 and scored his first century the following year, achieving 107 runs against the same team at Eden Gardens in Kolkata. Kohli has been a pivotal figure in Indian cricket, having captained the team to victory in the 2008 Under-19 World Cup and leading the senior side to win multiple ICC trophies, including the 50-over World Cup in 2011. For his detailed profile, stats, awards, and more updates, fans can refer to the official BCCI website.\", additional_kwargs={'refusal': None}, response_metadata={'token_usage': {'completion_tokens': 158, 'prompt_tokens': 202, 'total_tokens': 360, 'completion_tokens_details': {'accepted_prediction_tokens': 0, 'audio_tokens': 0, 'reasoning_tokens': 0, 'rejected_prediction_tokens': 0}, 'prompt_tokens_details': {'audio_tokens': 0, 'cached_tokens': 0}}, 'model_name': 'gpt-4o-mini-2024-07-18', 'system_fingerprint': 'fp_8bda4d3a2c', 'id': 'chatcmpl-CB3ulMiWX1cXhIIF48sX66mGZmuQ8', 'service_tier': 'default', 'finish_reason': 'stop', 'logprobs': None}, id='run--b869c846-b494-4621-9656-13312484324e-0', usage_metadata={'input_tokens': 202, 'output_tokens': 158, 'total_tokens': 360, 'input_token_details': {'audio': 0, 'cache_read': 0}, 'output_token_details': {'audio': 0, 'reasoning': 0}})"
      ]
     },
     "execution_count": 5,
     "metadata": {},
     "output_type": "execute_result"
    }
   ],
   "source": [
    "from langchain.agents import create_react_agent, AgentExecutor"
   ]
  }
 ],
 "metadata": {
  "kernelspec": {
   "display_name": "venv (3.13.7)",
   "language": "python",
   "name": "python3"
  },
  "language_info": {
   "codemirror_mode": {
    "name": "ipython",
    "version": 3
   },
   "file_extension": ".py",
   "mimetype": "text/x-python",
   "name": "python",
   "nbconvert_exporter": "python",
   "pygments_lexer": "ipython3",
   "version": "3.13.7"
  }
 },
 "nbformat": 4,
 "nbformat_minor": 5
}
